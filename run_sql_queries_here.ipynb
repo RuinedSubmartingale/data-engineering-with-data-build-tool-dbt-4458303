{
 "cells": [
  {
   "cell_type": "code",
   "execution_count": 1,
   "metadata": {},
   "outputs": [],
   "source": [
    "import duckdb\n",
    "import pandas as pd"
   ]
  },
  {
   "cell_type": "markdown",
   "metadata": {},
   "source": [
    "## Helper Functions"
   ]
  },
  {
   "cell_type": "code",
   "execution_count": 14,
   "metadata": {},
   "outputs": [],
   "source": [
    "DB_FILE = \"./data/nyc_parking_violations.db\"\n",
    "def query_db(query, db=DB_FILE):\n",
    "    with duckdb.connect(db) as con:\n",
    "        return con.sql(query).df()\n",
    "    \n",
    "def show_tables(db=DB_FILE):\n",
    "    sql_query = '''\n",
    "    show tables\n",
    "    '''\n",
    "    query_db(sql_query)"
   ]
  },
  {
   "cell_type": "markdown",
   "metadata": {},
   "source": [
    "# Import CSV data into your new database"
   ]
  },
  {
   "cell_type": "code",
   "execution_count": 5,
   "metadata": {},
   "outputs": [],
   "source": [
    "sql_query_import_1 = '''\n",
    "  CREATE OR REPLACE TABLE parking_violation_codes AS\n",
    "  SELECT *\n",
    "  FROM read_csv_auto('./data/dof_parking_violation_codes.csv', normalize_names = True)\n",
    "'''\n",
    "\n",
    "sql_query_import_2 = '''\n",
    "  CREATE OR REPLACE TABLE parking_violations_2023 AS\n",
    "  SELECT *\n",
    "  FROM read_csv_auto('data/parking_violations_issued_fiscal_year_2023_sample.csv', normalize_names = True)\n",
    "'''\n",
    "\n",
    "with duckdb.connect('data/nyc_parking_violations.db') as con:\n",
    "  con.execute(sql_query_import_1)\n",
    "  con.execute(sql_query_import_2)"
   ]
  },
  {
   "cell_type": "code",
   "execution_count": 9,
   "metadata": {},
   "outputs": [
    {
     "data": {
      "text/html": [
       "<div>\n",
       "<style scoped>\n",
       "    .dataframe tbody tr th:only-of-type {\n",
       "        vertical-align: middle;\n",
       "    }\n",
       "\n",
       "    .dataframe tbody tr th {\n",
       "        vertical-align: top;\n",
       "    }\n",
       "\n",
       "    .dataframe thead th {\n",
       "        text-align: right;\n",
       "    }\n",
       "</style>\n",
       "<table border=\"1\" class=\"dataframe\">\n",
       "  <thead>\n",
       "    <tr style=\"text-align: right;\">\n",
       "      <th></th>\n",
       "      <th>name</th>\n",
       "    </tr>\n",
       "  </thead>\n",
       "  <tbody>\n",
       "    <tr>\n",
       "      <th>0</th>\n",
       "      <td>bronze_parking_violation_codes</td>\n",
       "    </tr>\n",
       "    <tr>\n",
       "      <th>1</th>\n",
       "      <td>bronze_parking_violations</td>\n",
       "    </tr>\n",
       "    <tr>\n",
       "      <th>2</th>\n",
       "      <td>first_model</td>\n",
       "    </tr>\n",
       "    <tr>\n",
       "      <th>3</th>\n",
       "      <td>gold_ticket_metrics</td>\n",
       "    </tr>\n",
       "    <tr>\n",
       "      <th>4</th>\n",
       "      <td>gold_vehicles_metrics</td>\n",
       "    </tr>\n",
       "    <tr>\n",
       "      <th>5</th>\n",
       "      <td>parking_violation_codes</td>\n",
       "    </tr>\n",
       "    <tr>\n",
       "      <th>6</th>\n",
       "      <td>parking_violations_2023</td>\n",
       "    </tr>\n",
       "    <tr>\n",
       "      <th>7</th>\n",
       "      <td>ref_model</td>\n",
       "    </tr>\n",
       "    <tr>\n",
       "      <th>8</th>\n",
       "      <td>silver_parking_violation_codes</td>\n",
       "    </tr>\n",
       "    <tr>\n",
       "      <th>9</th>\n",
       "      <td>silver_parking_violations</td>\n",
       "    </tr>\n",
       "    <tr>\n",
       "      <th>10</th>\n",
       "      <td>silver_violation_tickets</td>\n",
       "    </tr>\n",
       "    <tr>\n",
       "      <th>11</th>\n",
       "      <td>silver_violation_vehicles</td>\n",
       "    </tr>\n",
       "  </tbody>\n",
       "</table>\n",
       "</div>"
      ],
      "text/plain": [
       "                              name\n",
       "0   bronze_parking_violation_codes\n",
       "1        bronze_parking_violations\n",
       "2                      first_model\n",
       "3              gold_ticket_metrics\n",
       "4            gold_vehicles_metrics\n",
       "5          parking_violation_codes\n",
       "6          parking_violations_2023\n",
       "7                        ref_model\n",
       "8   silver_parking_violation_codes\n",
       "9        silver_parking_violations\n",
       "10        silver_violation_tickets\n",
       "11       silver_violation_vehicles"
      ]
     },
     "metadata": {},
     "output_type": "display_data"
    }
   ],
   "source": [
    "show_tables()"
   ]
  },
  {
   "cell_type": "markdown",
   "metadata": {},
   "source": [
    "# 5.2 Using the dbt CLI commands\n",
    "The video “Using the dbt CLI commands” introduces three essential commands for working with dbt projects: dbt debug, dbt compile, and dbt run. Here's a simplified breakdown:\n",
    "\n",
    "1. `dbt debug`: Think of this as your project's health check. It verifies your setup and configurations are correct, similar to ensuring all parts of a machine are correctly assembled before turning it on. If there's an issue, dbt debug helps identify it early, saving you time.\n",
    "\n",
    "2. `dbt compile`: This command prepares your dbt models for execution by generating the SQL code they represent, but without actually running them. It's akin to a rehearsal for a play, where actors go through their lines and movements but the performance isn't put on for an audience. This step is crucial for catching any errors in your models before they're run, especially in large projects where running models can be time-consuming.\n",
    "\n",
    "3. `dbt run`: Finally, this command brings your data models to life. It executes the compiled SQL code and materializes the results in your database, effectively building or updating your data tables based on your dbt models. You can think of it as the actual performance following a successful rehearsal, where everything comes together to produce the intended outcome."
   ]
  },
  {
   "cell_type": "code",
   "execution_count": 12,
   "metadata": {},
   "outputs": [
    {
     "data": {
      "text/html": [
       "<div>\n",
       "<style scoped>\n",
       "    .dataframe tbody tr th:only-of-type {\n",
       "        vertical-align: middle;\n",
       "    }\n",
       "\n",
       "    .dataframe tbody tr th {\n",
       "        vertical-align: top;\n",
       "    }\n",
       "\n",
       "    .dataframe thead th {\n",
       "        text-align: right;\n",
       "    }\n",
       "</style>\n",
       "<table border=\"1\" class=\"dataframe\">\n",
       "  <thead>\n",
       "    <tr style=\"text-align: right;\">\n",
       "      <th></th>\n",
       "      <th>name</th>\n",
       "    </tr>\n",
       "  </thead>\n",
       "  <tbody>\n",
       "    <tr>\n",
       "      <th>0</th>\n",
       "      <td>bronze_parking_violation_codes</td>\n",
       "    </tr>\n",
       "    <tr>\n",
       "      <th>1</th>\n",
       "      <td>bronze_parking_violations</td>\n",
       "    </tr>\n",
       "    <tr>\n",
       "      <th>2</th>\n",
       "      <td>first_model</td>\n",
       "    </tr>\n",
       "    <tr>\n",
       "      <th>3</th>\n",
       "      <td>gold_ticket_metrics</td>\n",
       "    </tr>\n",
       "    <tr>\n",
       "      <th>4</th>\n",
       "      <td>gold_vehicles_metrics</td>\n",
       "    </tr>\n",
       "    <tr>\n",
       "      <th>5</th>\n",
       "      <td>parking_violation_codes</td>\n",
       "    </tr>\n",
       "    <tr>\n",
       "      <th>6</th>\n",
       "      <td>parking_violations_2023</td>\n",
       "    </tr>\n",
       "    <tr>\n",
       "      <th>7</th>\n",
       "      <td>ref_model</td>\n",
       "    </tr>\n",
       "    <tr>\n",
       "      <th>8</th>\n",
       "      <td>silver_parking_violation_codes</td>\n",
       "    </tr>\n",
       "    <tr>\n",
       "      <th>9</th>\n",
       "      <td>silver_parking_violations</td>\n",
       "    </tr>\n",
       "    <tr>\n",
       "      <th>10</th>\n",
       "      <td>silver_violation_tickets</td>\n",
       "    </tr>\n",
       "    <tr>\n",
       "      <th>11</th>\n",
       "      <td>silver_violation_vehicles</td>\n",
       "    </tr>\n",
       "  </tbody>\n",
       "</table>\n",
       "</div>"
      ],
      "text/plain": [
       "                              name\n",
       "0   bronze_parking_violation_codes\n",
       "1        bronze_parking_violations\n",
       "2                      first_model\n",
       "3              gold_ticket_metrics\n",
       "4            gold_vehicles_metrics\n",
       "5          parking_violation_codes\n",
       "6          parking_violations_2023\n",
       "7                        ref_model\n",
       "8   silver_parking_violation_codes\n",
       "9        silver_parking_violations\n",
       "10        silver_violation_tickets\n",
       "11       silver_violation_vehicles"
      ]
     },
     "metadata": {},
     "output_type": "display_data"
    }
   ],
   "source": [
    "show_tables()"
   ]
  },
  {
   "cell_type": "markdown",
   "metadata": {},
   "source": [
    "# 6. Intro to dbt `ref` function"
   ]
  },
  {
   "cell_type": "markdown",
   "metadata": {},
   "source": [
    "### Background\n",
    "1. Understanding the ref Function: It's a crucial component in dbt that enables the creation of dependencies between models. This is essential for orchestrating data transformations and ensuring data lineage is maintained.\n",
    "\n",
    "2. Jinja Syntax: The video introduces Jinja syntax, highlighting its importance in dbt. While the course doesn't dive deep into Jinja, it's recommended to explore dbt documentation for a comprehensive understanding.\n",
    "\n",
    "3. Practical Application: A step-by-step guide on creating a dbt model using the ref statement is provided. This includes setting up the model file and using the ref function to reference other models, showcasing how dbt manages data transformations.\n",
    "\n",
    "4. Data Lineage: The use of the ref function allows dbt to track the lineage of your data transformations, which is vital for documentation and understanding the flow of data through your dbt project."
   ]
  },
  {
   "cell_type": "markdown",
   "metadata": {},
   "source": [
    "### Running dbt models with ref syntax\n",
    "1. Execution Process: It walks you through the process of running a dbt model that includes the ref function, starting with ensuring you're in the correct directory, followed by commands dbt debug, dbt compile, and dbt run to execute the model successfully.\n",
    "\n",
    "2. Order of Operations: The video highlights the importance of the ref function in orchestrating the order in which dbt models are run. This is crucial for managing dependencies between models, ensuring that data transformations are executed in the correct sequence.\n",
    "\n",
    "3. Verification of Results: After running the models, it shows how to verify the results by executing a SQL query to ensure the data transformation was successful and the expected data is present in the database.\n",
    "\n",
    "4. Documentation and Lineage: The video teases the next steps in leveraging the ref function for documentation and understanding the data lineage within your dbt project, hinting at the power of dbt in managing complex data transformations."
   ]
  },
  {
   "cell_type": "markdown",
   "metadata": {},
   "source": [
    "### View your dbt project data lineage\n",
    "\n",
    "1. DBT Docs Generation: It introduces the command `dbt docs generate`, which is used to create documentation for your dbt project. This process compiles all the metadata from your dbt project into JSON files, which are then used to generate the documentation.\n",
    "\n",
    "2. Visualization of Data Lineage: By running `dbt docs serve`, a local web server is started, presenting a visual interface of your entire dbt project. This includes showing how models are interconnected using the ref function, which is crucial for understanding the flow of data through your transformations.\n",
    "\n",
    "3. Enhanced Project Understanding: The visualization provided by dbt docs allows you and your team to see the relationships between different models in your project. This is especially powerful when dealing with large projects with many models, as it helps in understanding how data moves and transforms across the project.\n",
    "\n",
    "4. Metadata Exploration: The video also highlights how you can dive into individual models within the dbt docs to explore detailed metadata about them. Although the models are initially shown as blank in the video, it is mentioned that they will be filled out in later steps, emphasizing the iterative nature of building and documenting dbt projects."
   ]
  },
  {
   "cell_type": "markdown",
   "metadata": {},
   "source": []
  }
 ],
 "metadata": {
  "kernelspec": {
   "display_name": "Python 3",
   "language": "python",
   "name": "python3"
  },
  "language_info": {
   "codemirror_mode": {
    "name": "ipython",
    "version": 3
   },
   "file_extension": ".py",
   "mimetype": "text/x-python",
   "name": "python",
   "nbconvert_exporter": "python",
   "pygments_lexer": "ipython3",
   "version": "3.10.12"
  },
  "orig_nbformat": 4,
  "vscode": {
   "interpreter": {
    "hash": "31f2aee4e71d21fbe5cf8b01ff0e069b9275f58929596ceb00d14d90e3e16cd6"
   }
  }
 },
 "nbformat": 4,
 "nbformat_minor": 2
}
